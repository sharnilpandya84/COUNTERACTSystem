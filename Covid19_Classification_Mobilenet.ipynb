{
  "nbformat": 4,
  "nbformat_minor": 0,
  "metadata": {
    "colab": {
      "name": "Covid19 Classification Mobilenet.ipynb",
      "provenance": [],
      "collapsed_sections": []
    },
    "kernelspec": {
      "name": "python3",
      "display_name": "Python 3"
    },
    "accelerator": "GPU"
  },
  "cells": [
    {
      "cell_type": "code",
      "metadata": {
        "id": "C1FuJm9oa8UB",
        "colab": {
          "base_uri": "https://localhost:8080/",
          "height": 102
        },
        "outputId": "3b313f51-0317-4b6e-db74-fb7a7ce30d42"
      },
      "source": [
        "!pip install keract"
      ],
      "execution_count": null,
      "outputs": [
        {
          "output_type": "stream",
          "text": [
            "Collecting keract\n",
            "  Downloading https://files.pythonhosted.org/packages/ad/7f/74c42d4f6fcd09de8a0ebad1bde5484510a80c03df7d0b0db18474aaade5/keract-3.1.0-py3-none-any.whl\n",
            "Requirement already satisfied: numpy>=1.16.2 in /usr/local/lib/python3.6/dist-packages (from keract) (1.18.2)\n",
            "Installing collected packages: keract\n",
            "Successfully installed keract-3.1.0\n"
          ],
          "name": "stdout"
        }
      ]
    },
    {
      "cell_type": "code",
      "metadata": {
        "id": "Kvg7QprD4APs",
        "colab": {
          "base_uri": "https://localhost:8080/",
          "height": 122
        },
        "outputId": "07d5e116-7c83-47b5-bed1-06665176edc7"
      },
      "source": [
        "from google.colab import drive\n",
        "drive.mount('/content/drive')"
      ],
      "execution_count": null,
      "outputs": [
        {
          "output_type": "stream",
          "text": [
            "Go to this URL in a browser: https://accounts.google.com/o/oauth2/auth?client_id=947318989803-6bn6qk8qdgf4n4g3pfee6491hc0brc4i.apps.googleusercontent.com&redirect_uri=urn%3aietf%3awg%3aoauth%3a2.0%3aoob&response_type=code&scope=email%20https%3a%2f%2fwww.googleapis.com%2fauth%2fdocs.test%20https%3a%2f%2fwww.googleapis.com%2fauth%2fdrive%20https%3a%2f%2fwww.googleapis.com%2fauth%2fdrive.photos.readonly%20https%3a%2f%2fwww.googleapis.com%2fauth%2fpeopleapi.readonly\n",
            "\n",
            "Enter your authorization code:\n",
            "··········\n",
            "Mounted at /content/drive\n"
          ],
          "name": "stdout"
        }
      ]
    },
    {
      "cell_type": "code",
      "metadata": {
        "id": "A2DZJAvM4CXx",
        "colab": {
          "base_uri": "https://localhost:8080/",
          "height": 51
        },
        "outputId": "89bf21f4-998d-4d7f-f1ae-fd828cd9bc58"
      },
      "source": [
        "%tensorflow_version 1.x\n",
        "import numpy as np # linear algebra\n",
        "import pandas as pd # data processing, CSV file I/O (e.g. pd.read_csv)\n",
        "import os, cv2\n",
        "from tqdm import tqdm\n",
        "from sklearn.model_selection import StratifiedShuffleSplit\n",
        "import warnings \n",
        "warnings.filterwarnings(\"ignore\")\n",
        "\n",
        "from keras import optimizers\n",
        "from keras.models import Sequential, Model, Input\n",
        "from keras.layers import Dense, Dropout, Flatten, Concatenate\n",
        "from keras.layers import Conv2D, MaxPooling2D, BatchNormalization\n",
        "from keras.callbacks import EarlyStopping, ModelCheckpoint, ReduceLROnPlateau\n",
        "from keras.preprocessing.image import ImageDataGenerator\n",
        "from sklearn.model_selection import train_test_split\n",
        "from keras.applications.inception_v3 import *\n",
        "from keras.applications.vgg19 import *\n",
        "from keras.utils import plot_model\n",
        "from keract import get_activations"
      ],
      "execution_count": null,
      "outputs": [
        {
          "output_type": "stream",
          "text": [
            "TensorFlow 1.x selected.\n"
          ],
          "name": "stdout"
        },
        {
          "output_type": "stream",
          "text": [
            "Using TensorFlow backend.\n"
          ],
          "name": "stderr"
        }
      ]
    },
    {
      "cell_type": "code",
      "metadata": {
        "id": "UHokx4DI4clI"
      },
      "source": [
        "import matplotlib.pyplot as plt\n",
        "def plot_for_class(label):\n",
        "    nb_rows = 2\n",
        "    nb_cols = 2\n",
        "    fig, axs = plt.subplots(nb_rows, nb_cols, figsize=(10, 10))\n",
        "\n",
        "    n = 0\n",
        "    for i in range(0, nb_rows):\n",
        "        for j in range(0, nb_cols):\n",
        "            axs[i, j].xaxis.set_ticklabels([])\n",
        "            axs[i, j].yaxis.set_ticklabels([])\n",
        "            axs[i, j].imshow(images_per_class[label][n])\n",
        "            n += 1\n",
        "    plt.show()"
      ],
      "execution_count": null,
      "outputs": []
    },
    {
      "cell_type": "code",
      "metadata": {
        "id": "0klr1hMQ4ioC"
      },
      "source": [
        "x_train = []\n",
        "x_test = []\n",
        "y_train = []\n",
        "label_map = {\"pneumonia\":0,\"corona\":1}"
      ],
      "execution_count": null,
      "outputs": []
    },
    {
      "cell_type": "code",
      "metadata": {
        "id": "TJs7awAY44Jt",
        "colab": {
          "base_uri": "https://localhost:8080/",
          "height": 51
        },
        "outputId": "b31fcee8-2e46-45f4-9824-d4aad332c19f"
      },
      "source": [
        "from glob import glob\n",
        "images_per_class = {}\n",
        "for class_folder_name in os.listdir(\"/content/drive/My Drive/dataset/train/\"):\n",
        "    class_folder_path = os.path.join(\"/content/drive/My Drive/dataset/train/\", class_folder_name)\n",
        "    class_label = class_folder_name\n",
        "    images_per_class[class_label] = []\n",
        "    for image_path in tqdm(glob(os.path.join(class_folder_path, \"*.jpg\"))):\n",
        "        image_bgr = cv2.imread(image_path, cv2.IMREAD_COLOR)\n",
        "        images_per_class[class_label].append(image_bgr)"
      ],
      "execution_count": null,
      "outputs": [
        {
          "output_type": "stream",
          "text": [
            "100%|██████████| 89/89 [00:19<00:00,  4.48it/s]\n",
            "100%|██████████| 89/89 [00:25<00:00,  3.54it/s]\n"
          ],
          "name": "stderr"
        }
      ]
    },
    {
      "cell_type": "code",
      "metadata": {
        "id": "ZpRCMSC-5KOu",
        "colab": {
          "base_uri": "https://localhost:8080/",
          "height": 51
        },
        "outputId": "e8b36765-c641-45a7-883b-dcbd522d3b52"
      },
      "source": [
        "for key,value in images_per_class.items():\n",
        "    print(\"{0} -> {1}\".format(key, len(value)))"
      ],
      "execution_count": null,
      "outputs": [
        {
          "output_type": "stream",
          "text": [
            "corona -> 89\n",
            "pneumonia -> 89\n"
          ],
          "name": "stdout"
        }
      ]
    },
    {
      "cell_type": "code",
      "metadata": {
        "id": "oy-4N0MI5b8e"
      },
      "source": [
        "# for label in  label_map:\n",
        "#     print(label)\n",
        "#     plot_for_class(label)"
      ],
      "execution_count": null,
      "outputs": []
    },
    {
      "cell_type": "code",
      "metadata": {
        "id": "imz7fxN56c7B"
      },
      "source": [
        "dim = 224"
      ],
      "execution_count": null,
      "outputs": []
    },
    {
      "cell_type": "code",
      "metadata": {
        "id": "FNG3HE1r6jyn",
        "colab": {
          "base_uri": "https://localhost:8080/",
          "height": 51
        },
        "outputId": "cf7e1afa-da52-4f16-ff86-b5eba0c35678"
      },
      "source": [
        "dirs = os.listdir(\"/content/drive/My Drive/dataset/train/\")\n",
        "for k in range(len(dirs)):    # Directory\n",
        "    files = os.listdir(\"/content/drive/My Drive/dataset/train/{}\".format(dirs[k]))\n",
        "    for f in tqdm(range(len(files))):     # Files\n",
        "        img = cv2.imread('/content/drive/My Drive/dataset/train/{}/{}'.format(dirs[k], files[f]))\n",
        "        targets = np.zeros(2)\n",
        "        targets[label_map[dirs[k]]] = 1 \n",
        "        x_train.append(cv2.resize(img, (dim, dim)))\n",
        "        y_train.append(targets)"
      ],
      "execution_count": null,
      "outputs": [
        {
          "output_type": "stream",
          "text": [
            "100%|██████████| 89/89 [00:02<00:00, 30.90it/s]\n",
            "100%|██████████| 89/89 [00:02<00:00, 36.19it/s]\n"
          ],
          "name": "stderr"
        }
      ]
    },
    {
      "cell_type": "code",
      "metadata": {
        "id": "KBY9Qo3a6uZI",
        "colab": {
          "base_uri": "https://localhost:8080/",
          "height": 51
        },
        "outputId": "e94c102a-213d-4b72-da2a-499d6db8ed83"
      },
      "source": [
        "y_train = np.array(y_train, np.uint8)\n",
        "x_train = np.array(x_train, np.float32)\n",
        "\n",
        "print(x_train.shape)\n",
        "print(y_train.shape)"
      ],
      "execution_count": null,
      "outputs": [
        {
          "output_type": "stream",
          "text": [
            "(178, 224, 224, 3)\n",
            "(178, 2)\n"
          ],
          "name": "stdout"
        }
      ]
    },
    {
      "cell_type": "markdown",
      "metadata": {
        "id": "a2mXlDrIAuPx"
      },
      "source": [
        "### Mobile Net"
      ]
    },
    {
      "cell_type": "code",
      "metadata": {
        "id": "aOkR5vRVd4lO",
        "colab": {
          "base_uri": "https://localhost:8080/",
          "height": 34
        },
        "outputId": "31fbef3f-70f4-434a-b75c-2830561dafaf"
      },
      "source": [
        "#x_train, x_valid, y_train, y_valid = train_test_split(x_train, y_train, test_size=0.01, random_state=42)\n",
        "sss = StratifiedShuffleSplit(n_splits=1, test_size=0.10, random_state=42) # Want a balanced split for all the classes\n",
        "for train_index, test_index in sss.split(x_train, y_train):\n",
        "    print(\"Using {} for training and {} for validation\".format(len(train_index), len(test_index)))\n",
        "    x_train, x_valid = x_train[train_index], x_train[test_index]\n",
        "    y_train, y_valid = y_train[train_index], y_train[test_index]"
      ],
      "execution_count": null,
      "outputs": [
        {
          "output_type": "stream",
          "text": [
            "Using 160 for training and 18 for validation\n"
          ],
          "name": "stdout"
        }
      ]
    },
    {
      "cell_type": "code",
      "metadata": {
        "id": "zCeD1_18eFR3"
      },
      "source": [
        "datagen = ImageDataGenerator(horizontal_flip=True, vertical_flip=True, rescale=1./255)\n",
        "                                      \n",
        "weights = os.path.join('', 'weightsinception3.h5')"
      ],
      "execution_count": null,
      "outputs": []
    },
    {
      "cell_type": "code",
      "metadata": {
        "id": "PtLn28vgpr5A"
      },
      "source": [
        "# from matplotlib import pyplot \n",
        "\n",
        "# for X_batch, y_batch in datagen.flow(x_train, y_train, batch_size=9):\n",
        "# \t# create a grid of 3x3 images\n",
        "# \tfor i in range(0, 9):\n",
        "# \t\tpyplot.subplots(330 + 1 + i)\n",
        "# \t\tpyplot.imshow(X_batch[i], cmap=pyplot.get_cmap('gray'))\n",
        "# \t# show the plot\n",
        "# \tpyplot.show()\n",
        "# \tbreak\n"
      ],
      "execution_count": null,
      "outputs": []
    },
    {
      "cell_type": "code",
      "metadata": {
        "id": "nqEcaPc5exJk"
      },
      "source": [
        "epochs = 50\n",
        "learning_rate = 0.0001\n",
        "batch_size = 32"
      ],
      "execution_count": null,
      "outputs": []
    },
    {
      "cell_type": "code",
      "metadata": {
        "id": "yU2Ma8j_e6To"
      },
      "source": [
        "callbacks = [ EarlyStopping(monitor='val_loss', patience=15, verbose=0), \n",
        "              ModelCheckpoint(weights, monitor='val_loss', save_best_only=True, verbose=0),\n",
        "              ReduceLROnPlateau(monitor='val_loss', factor=0.1, patience=10,verbose=0, mode='auto')]"
      ],
      "execution_count": null,
      "outputs": []
    },
    {
      "cell_type": "code",
      "metadata": {
        "id": "6CVuR3PDZI0K",
        "colab": {
          "base_uri": "https://localhost:8080/",
          "height": 51
        },
        "outputId": "024f8db3-5dd5-4f77-d2ff-82d26f84026c"
      },
      "source": [
        "from keras.layers import Dense,GlobalAveragePooling2D\n",
        "from keras.applications import MobileNet\n",
        "base_model=MobileNet(input_shape=(dim, dim, 3), weights='imagenet',include_top=False) #imports the mobilenet model and discards the last 1000 neuron layer.\n",
        "# base_model = InceptionV3(input_shape=(dim, dim, 3), include_top=False, weights='imagenet', pooling='avg') # Average pooling reduces output dimensions\n",
        "x = base_model.output"
      ],
      "execution_count": null,
      "outputs": [
        {
          "output_type": "stream",
          "text": [
            "Downloading data from https://github.com/fchollet/deep-learning-models/releases/download/v0.6/mobilenet_1_0_224_tf_no_top.h5\n",
            "17227776/17225924 [==============================] - 0s 0us/step\n"
          ],
          "name": "stdout"
        }
      ]
    },
    {
      "cell_type": "code",
      "metadata": {
        "id": "btGn2m-Xu-tT",
        "colab": {
          "base_uri": "https://localhost:8080/",
          "height": 1000
        },
        "outputId": "80a6bf4d-0281-4e32-d6ef-e439271fd8dc"
      },
      "source": [
        "x=GlobalAveragePooling2D()(x)\n",
        "x=Dense(1024,activation='relu')(x) #we add dense layers so that the model can learn more complex functions and classify for better results.\n",
        "x=Dropout(0.2)(x)\n",
        "x=Dense(1024,activation='relu')(x) #dense layer 2\n",
        "x=Dropout(0.2)(x)\n",
        "x=Dense(512,activation='relu')(x) #dense layer 3\n",
        "preds = Dense(2, activation='sigmoid')(x)\n",
        "model=Model(inputs=base_model.input,outputs=preds)\n",
        "model.summary()"
      ],
      "execution_count": null,
      "outputs": [
        {
          "output_type": "stream",
          "text": [
            "Model: \"model_1\"\n",
            "_________________________________________________________________\n",
            "Layer (type)                 Output Shape              Param #   \n",
            "=================================================================\n",
            "input_2 (InputLayer)         (None, 224, 224, 3)       0         \n",
            "_________________________________________________________________\n",
            "conv1_pad (ZeroPadding2D)    (None, 225, 225, 3)       0         \n",
            "_________________________________________________________________\n",
            "conv1 (Conv2D)               (None, 112, 112, 32)      864       \n",
            "_________________________________________________________________\n",
            "conv1_bn (BatchNormalization (None, 112, 112, 32)      128       \n",
            "_________________________________________________________________\n",
            "conv1_relu (ReLU)            (None, 112, 112, 32)      0         \n",
            "_________________________________________________________________\n",
            "conv_dw_1 (DepthwiseConv2D)  (None, 112, 112, 32)      288       \n",
            "_________________________________________________________________\n",
            "conv_dw_1_bn (BatchNormaliza (None, 112, 112, 32)      128       \n",
            "_________________________________________________________________\n",
            "conv_dw_1_relu (ReLU)        (None, 112, 112, 32)      0         \n",
            "_________________________________________________________________\n",
            "conv_pw_1 (Conv2D)           (None, 112, 112, 64)      2048      \n",
            "_________________________________________________________________\n",
            "conv_pw_1_bn (BatchNormaliza (None, 112, 112, 64)      256       \n",
            "_________________________________________________________________\n",
            "conv_pw_1_relu (ReLU)        (None, 112, 112, 64)      0         \n",
            "_________________________________________________________________\n",
            "conv_pad_2 (ZeroPadding2D)   (None, 113, 113, 64)      0         \n",
            "_________________________________________________________________\n",
            "conv_dw_2 (DepthwiseConv2D)  (None, 56, 56, 64)        576       \n",
            "_________________________________________________________________\n",
            "conv_dw_2_bn (BatchNormaliza (None, 56, 56, 64)        256       \n",
            "_________________________________________________________________\n",
            "conv_dw_2_relu (ReLU)        (None, 56, 56, 64)        0         \n",
            "_________________________________________________________________\n",
            "conv_pw_2 (Conv2D)           (None, 56, 56, 128)       8192      \n",
            "_________________________________________________________________\n",
            "conv_pw_2_bn (BatchNormaliza (None, 56, 56, 128)       512       \n",
            "_________________________________________________________________\n",
            "conv_pw_2_relu (ReLU)        (None, 56, 56, 128)       0         \n",
            "_________________________________________________________________\n",
            "conv_dw_3 (DepthwiseConv2D)  (None, 56, 56, 128)       1152      \n",
            "_________________________________________________________________\n",
            "conv_dw_3_bn (BatchNormaliza (None, 56, 56, 128)       512       \n",
            "_________________________________________________________________\n",
            "conv_dw_3_relu (ReLU)        (None, 56, 56, 128)       0         \n",
            "_________________________________________________________________\n",
            "conv_pw_3 (Conv2D)           (None, 56, 56, 128)       16384     \n",
            "_________________________________________________________________\n",
            "conv_pw_3_bn (BatchNormaliza (None, 56, 56, 128)       512       \n",
            "_________________________________________________________________\n",
            "conv_pw_3_relu (ReLU)        (None, 56, 56, 128)       0         \n",
            "_________________________________________________________________\n",
            "conv_pad_4 (ZeroPadding2D)   (None, 57, 57, 128)       0         \n",
            "_________________________________________________________________\n",
            "conv_dw_4 (DepthwiseConv2D)  (None, 28, 28, 128)       1152      \n",
            "_________________________________________________________________\n",
            "conv_dw_4_bn (BatchNormaliza (None, 28, 28, 128)       512       \n",
            "_________________________________________________________________\n",
            "conv_dw_4_relu (ReLU)        (None, 28, 28, 128)       0         \n",
            "_________________________________________________________________\n",
            "conv_pw_4 (Conv2D)           (None, 28, 28, 256)       32768     \n",
            "_________________________________________________________________\n",
            "conv_pw_4_bn (BatchNormaliza (None, 28, 28, 256)       1024      \n",
            "_________________________________________________________________\n",
            "conv_pw_4_relu (ReLU)        (None, 28, 28, 256)       0         \n",
            "_________________________________________________________________\n",
            "conv_dw_5 (DepthwiseConv2D)  (None, 28, 28, 256)       2304      \n",
            "_________________________________________________________________\n",
            "conv_dw_5_bn (BatchNormaliza (None, 28, 28, 256)       1024      \n",
            "_________________________________________________________________\n",
            "conv_dw_5_relu (ReLU)        (None, 28, 28, 256)       0         \n",
            "_________________________________________________________________\n",
            "conv_pw_5 (Conv2D)           (None, 28, 28, 256)       65536     \n",
            "_________________________________________________________________\n",
            "conv_pw_5_bn (BatchNormaliza (None, 28, 28, 256)       1024      \n",
            "_________________________________________________________________\n",
            "conv_pw_5_relu (ReLU)        (None, 28, 28, 256)       0         \n",
            "_________________________________________________________________\n",
            "conv_pad_6 (ZeroPadding2D)   (None, 29, 29, 256)       0         \n",
            "_________________________________________________________________\n",
            "conv_dw_6 (DepthwiseConv2D)  (None, 14, 14, 256)       2304      \n",
            "_________________________________________________________________\n",
            "conv_dw_6_bn (BatchNormaliza (None, 14, 14, 256)       1024      \n",
            "_________________________________________________________________\n",
            "conv_dw_6_relu (ReLU)        (None, 14, 14, 256)       0         \n",
            "_________________________________________________________________\n",
            "conv_pw_6 (Conv2D)           (None, 14, 14, 512)       131072    \n",
            "_________________________________________________________________\n",
            "conv_pw_6_bn (BatchNormaliza (None, 14, 14, 512)       2048      \n",
            "_________________________________________________________________\n",
            "conv_pw_6_relu (ReLU)        (None, 14, 14, 512)       0         \n",
            "_________________________________________________________________\n",
            "conv_dw_7 (DepthwiseConv2D)  (None, 14, 14, 512)       4608      \n",
            "_________________________________________________________________\n",
            "conv_dw_7_bn (BatchNormaliza (None, 14, 14, 512)       2048      \n",
            "_________________________________________________________________\n",
            "conv_dw_7_relu (ReLU)        (None, 14, 14, 512)       0         \n",
            "_________________________________________________________________\n",
            "conv_pw_7 (Conv2D)           (None, 14, 14, 512)       262144    \n",
            "_________________________________________________________________\n",
            "conv_pw_7_bn (BatchNormaliza (None, 14, 14, 512)       2048      \n",
            "_________________________________________________________________\n",
            "conv_pw_7_relu (ReLU)        (None, 14, 14, 512)       0         \n",
            "_________________________________________________________________\n",
            "conv_dw_8 (DepthwiseConv2D)  (None, 14, 14, 512)       4608      \n",
            "_________________________________________________________________\n",
            "conv_dw_8_bn (BatchNormaliza (None, 14, 14, 512)       2048      \n",
            "_________________________________________________________________\n",
            "conv_dw_8_relu (ReLU)        (None, 14, 14, 512)       0         \n",
            "_________________________________________________________________\n",
            "conv_pw_8 (Conv2D)           (None, 14, 14, 512)       262144    \n",
            "_________________________________________________________________\n",
            "conv_pw_8_bn (BatchNormaliza (None, 14, 14, 512)       2048      \n",
            "_________________________________________________________________\n",
            "conv_pw_8_relu (ReLU)        (None, 14, 14, 512)       0         \n",
            "_________________________________________________________________\n",
            "conv_dw_9 (DepthwiseConv2D)  (None, 14, 14, 512)       4608      \n",
            "_________________________________________________________________\n",
            "conv_dw_9_bn (BatchNormaliza (None, 14, 14, 512)       2048      \n",
            "_________________________________________________________________\n",
            "conv_dw_9_relu (ReLU)        (None, 14, 14, 512)       0         \n",
            "_________________________________________________________________\n",
            "conv_pw_9 (Conv2D)           (None, 14, 14, 512)       262144    \n",
            "_________________________________________________________________\n",
            "conv_pw_9_bn (BatchNormaliza (None, 14, 14, 512)       2048      \n",
            "_________________________________________________________________\n",
            "conv_pw_9_relu (ReLU)        (None, 14, 14, 512)       0         \n",
            "_________________________________________________________________\n",
            "conv_dw_10 (DepthwiseConv2D) (None, 14, 14, 512)       4608      \n",
            "_________________________________________________________________\n",
            "conv_dw_10_bn (BatchNormaliz (None, 14, 14, 512)       2048      \n",
            "_________________________________________________________________\n",
            "conv_dw_10_relu (ReLU)       (None, 14, 14, 512)       0         \n",
            "_________________________________________________________________\n",
            "conv_pw_10 (Conv2D)          (None, 14, 14, 512)       262144    \n",
            "_________________________________________________________________\n",
            "conv_pw_10_bn (BatchNormaliz (None, 14, 14, 512)       2048      \n",
            "_________________________________________________________________\n",
            "conv_pw_10_relu (ReLU)       (None, 14, 14, 512)       0         \n",
            "_________________________________________________________________\n",
            "conv_dw_11 (DepthwiseConv2D) (None, 14, 14, 512)       4608      \n",
            "_________________________________________________________________\n",
            "conv_dw_11_bn (BatchNormaliz (None, 14, 14, 512)       2048      \n",
            "_________________________________________________________________\n",
            "conv_dw_11_relu (ReLU)       (None, 14, 14, 512)       0         \n",
            "_________________________________________________________________\n",
            "conv_pw_11 (Conv2D)          (None, 14, 14, 512)       262144    \n",
            "_________________________________________________________________\n",
            "conv_pw_11_bn (BatchNormaliz (None, 14, 14, 512)       2048      \n",
            "_________________________________________________________________\n",
            "conv_pw_11_relu (ReLU)       (None, 14, 14, 512)       0         \n",
            "_________________________________________________________________\n",
            "conv_pad_12 (ZeroPadding2D)  (None, 15, 15, 512)       0         \n",
            "_________________________________________________________________\n",
            "conv_dw_12 (DepthwiseConv2D) (None, 7, 7, 512)         4608      \n",
            "_________________________________________________________________\n",
            "conv_dw_12_bn (BatchNormaliz (None, 7, 7, 512)         2048      \n",
            "_________________________________________________________________\n",
            "conv_dw_12_relu (ReLU)       (None, 7, 7, 512)         0         \n",
            "_________________________________________________________________\n",
            "conv_pw_12 (Conv2D)          (None, 7, 7, 1024)        524288    \n",
            "_________________________________________________________________\n",
            "conv_pw_12_bn (BatchNormaliz (None, 7, 7, 1024)        4096      \n",
            "_________________________________________________________________\n",
            "conv_pw_12_relu (ReLU)       (None, 7, 7, 1024)        0         \n",
            "_________________________________________________________________\n",
            "conv_dw_13 (DepthwiseConv2D) (None, 7, 7, 1024)        9216      \n",
            "_________________________________________________________________\n",
            "conv_dw_13_bn (BatchNormaliz (None, 7, 7, 1024)        4096      \n",
            "_________________________________________________________________\n",
            "conv_dw_13_relu (ReLU)       (None, 7, 7, 1024)        0         \n",
            "_________________________________________________________________\n",
            "conv_pw_13 (Conv2D)          (None, 7, 7, 1024)        1048576   \n",
            "_________________________________________________________________\n",
            "conv_pw_13_bn (BatchNormaliz (None, 7, 7, 1024)        4096      \n",
            "_________________________________________________________________\n",
            "conv_pw_13_relu (ReLU)       (None, 7, 7, 1024)        0         \n",
            "_________________________________________________________________\n",
            "global_average_pooling2d_2 ( (None, 1024)              0         \n",
            "_________________________________________________________________\n",
            "dense_1 (Dense)              (None, 1024)              1049600   \n",
            "_________________________________________________________________\n",
            "dropout_1 (Dropout)          (None, 1024)              0         \n",
            "_________________________________________________________________\n",
            "dense_2 (Dense)              (None, 1024)              1049600   \n",
            "_________________________________________________________________\n",
            "dropout_2 (Dropout)          (None, 1024)              0         \n",
            "_________________________________________________________________\n",
            "dense_3 (Dense)              (None, 512)               524800    \n",
            "_________________________________________________________________\n",
            "dense_4 (Dense)              (None, 2)                 1026      \n",
            "=================================================================\n",
            "Total params: 5,853,890\n",
            "Trainable params: 5,832,002\n",
            "Non-trainable params: 21,888\n",
            "_________________________________________________________________\n"
          ],
          "name": "stdout"
        }
      ]
    },
    {
      "cell_type": "code",
      "metadata": {
        "id": "MZ_YxDZqbyE-"
      },
      "source": [
        "# activations = get_activations(model, x_train, auto_compile=True)\n",
        "# keract.display_heatmaps(activations, input_image, save=False)"
      ],
      "execution_count": null,
      "outputs": []
    },
    {
      "cell_type": "code",
      "metadata": {
        "id": "qIVJlef1Dy9x"
      },
      "source": [
        "# model.load_weights('/content/drive/My Drive/dataset/Best Model/Mobilenet2.h5')\n",
        "model.compile(loss='binary_crossentropy', optimizer=optimizers.Adam(lr=learning_rate), metrics=['accuracy'])"
      ],
      "execution_count": null,
      "outputs": []
    },
    {
      "cell_type": "code",
      "metadata": {
        "id": "q_BsuosffEsm",
        "colab": {
          "base_uri": "https://localhost:8080/",
          "height": 51
        },
        "outputId": "d441ce88-36ce-47e9-844e-2a7ff1bae111"
      },
      "source": [
        "history = model.fit_generator(datagen.flow(x_train, y_train, batch_size=batch_size),\n",
        "                    steps_per_epoch=len(x_train)/batch_size, \n",
        "                    validation_data=datagen.flow(x_valid, y_valid, batch_size=batch_size), \n",
        "                    validation_steps=len(x_valid)/batch_size,\n",
        "                    callbacks=callbacks,\n",
        "                    epochs=epochs)"
      ],
      "execution_count": null,
      "outputs": [
        {
          "output_type": "stream",
          "text": [
            "Epoch 1/50\n",
            "5/5 [==============================] - 21s 4s/step - loss: 0.6986 - accuracy: 0.5250 - val_loss: 0.7276 - val_accuracy: 0.4444\n"
          ],
          "name": "stdout"
        }
      ]
    },
    {
      "cell_type": "code",
      "metadata": {
        "id": "hImvP_6FiXGK",
        "colab": {
          "base_uri": "https://localhost:8080/",
          "height": 1000
        },
        "outputId": "f690eb9b-ae2d-4723-dcff-d36150413454"
      },
      "source": [
        "import matplotlib.pyplot as plt\n",
        "\n",
        "# Plot training & validation accuracy values\n",
        "plt.figure(figsize=(20,8))\n",
        "plt.plot(history.history['accuracy'])\n",
        "plt.plot(history.history['val_accuracy'])\n",
        "plt.title('Model accuracy')\n",
        "plt.ylabel('Accuracy')\n",
        "plt.xlabel('Epoch')\n",
        "plt.legend(['Train', 'Test'], loc='upper left')\n",
        "plt.show()\n",
        "\n",
        "# Plot training & validation loss values\n",
        "plt.figure(figsize=(20,8))\n",
        "plt.plot(history.history['loss'])\n",
        "plt.plot(history.history['val_loss'])\n",
        "plt.title('Model loss')\n",
        "plt.ylabel('Loss')\n",
        "plt.xlabel('Epoch')\n",
        "plt.legend(['Train', 'Test'], loc='upper left')\n",
        "plt.show()"
      ],
      "execution_count": null,
      "outputs": [
        {
          "output_type": "display_data",
          "data": {
            "image/png": "[encoded data removed]",
            "text/plain": [
              "<Figure size 1440x576 with 1 Axes>"
            ]
          },
          "metadata": {
            "tags": [],
            "needs_background": "light"
          }
        },
        {
          "output_type": "display_data",
          "data": {
            "image/png": "[encoded data removed]",
            "text/plain": [
              "<Figure size 1440x576 with 1 Axes>"
            ]
          },
          "metadata": {
            "tags": [],
            "needs_background": "light"
          }
        }
      ]
    },
    {
      "cell_type": "code",
      "metadata": {
        "id": "A8rOuI3zsqFS",
        "colab": {
          "base_uri": "https://localhost:8080/",
          "height": 731
        },
        "outputId": "27e9e424-ad08-446f-aed8-b2f7fa29afe9"
      },
      "source": [
        "import pandas as pd\n",
        "results = pd.DataFrame(history.history)\n",
        "results.sort_values('val_loss', inplace=True)\n",
        "results\n",
        "#  results.to_csv(\"/content/drive/My Drive/dataset/result_mobilenet50_2.csv\", index=False)"
      ],
      "execution_count": null,
      "outputs": [
        {
          "output_type": "execute_result",
          "data": {
            "text/html": [
              "<div>\n",
              "<style scoped>\n",
              "    .dataframe tbody tr th:only-of-type {\n",
              "        vertical-align: middle;\n",
              "    }\n",
              "\n",
              "    .dataframe tbody tr th {\n",
              "        vertical-align: top;\n",
              "    }\n",
              "\n",
              "    .dataframe thead th {\n",
              "        text-align: right;\n",
              "    }\n",
              "</style>\n",
              "<table border=\"1\" class=\"dataframe\">\n",
              "  <thead>\n",
              "    <tr style=\"text-align: right;\">\n",
              "      <th></th>\n",
              "      <th>val_loss</th>\n",
              "      <th>val_accuracy</th>\n",
              "      <th>loss</th>\n",
              "      <th>accuracy</th>\n",
              "      <th>lr</th>\n",
              "    </tr>\n",
              "  </thead>\n",
              "  <tbody>\n",
              "    <tr>\n",
              "      <th>6</th>\n",
              "      <td>0.156607</td>\n",
              "      <td>0.916667</td>\n",
              "      <td>0.000888</td>\n",
              "      <td>1.000000</td>\n",
              "      <td>1.000000e-05</td>\n",
              "    </tr>\n",
              "    <tr>\n",
              "      <th>0</th>\n",
              "      <td>0.315637</td>\n",
              "      <td>0.833333</td>\n",
              "      <td>0.001164</td>\n",
              "      <td>1.000000</td>\n",
              "      <td>1.000000e-05</td>\n",
              "    </tr>\n",
              "    <tr>\n",
              "      <th>10</th>\n",
              "      <td>0.317678</td>\n",
              "      <td>0.833333</td>\n",
              "      <td>0.001456</td>\n",
              "      <td>1.000000</td>\n",
              "      <td>1.000000e-05</td>\n",
              "    </tr>\n",
              "    <tr>\n",
              "      <th>7</th>\n",
              "      <td>0.334445</td>\n",
              "      <td>0.888889</td>\n",
              "      <td>0.000578</td>\n",
              "      <td>1.000000</td>\n",
              "      <td>1.000000e-05</td>\n",
              "    </tr>\n",
              "    <tr>\n",
              "      <th>3</th>\n",
              "      <td>0.341252</td>\n",
              "      <td>0.888889</td>\n",
              "      <td>0.007122</td>\n",
              "      <td>0.996875</td>\n",
              "      <td>1.000000e-05</td>\n",
              "    </tr>\n",
              "    <tr>\n",
              "      <th>17</th>\n",
              "      <td>0.369703</td>\n",
              "      <td>0.861111</td>\n",
              "      <td>0.000725</td>\n",
              "      <td>1.000000</td>\n",
              "      <td>1.000000e-06</td>\n",
              "    </tr>\n",
              "    <tr>\n",
              "      <th>14</th>\n",
              "      <td>0.432697</td>\n",
              "      <td>0.861111</td>\n",
              "      <td>0.000925</td>\n",
              "      <td>1.000000</td>\n",
              "      <td>1.000000e-05</td>\n",
              "    </tr>\n",
              "    <tr>\n",
              "      <th>12</th>\n",
              "      <td>0.459952</td>\n",
              "      <td>0.777778</td>\n",
              "      <td>0.001734</td>\n",
              "      <td>1.000000</td>\n",
              "      <td>1.000000e-05</td>\n",
              "    </tr>\n",
              "    <tr>\n",
              "      <th>8</th>\n",
              "      <td>0.464968</td>\n",
              "      <td>0.888889</td>\n",
              "      <td>0.004668</td>\n",
              "      <td>1.000000</td>\n",
              "      <td>1.000000e-05</td>\n",
              "    </tr>\n",
              "    <tr>\n",
              "      <th>16</th>\n",
              "      <td>0.469383</td>\n",
              "      <td>0.833333</td>\n",
              "      <td>0.000751</td>\n",
              "      <td>1.000000</td>\n",
              "      <td>1.000000e-05</td>\n",
              "    </tr>\n",
              "    <tr>\n",
              "      <th>1</th>\n",
              "      <td>0.558253</td>\n",
              "      <td>0.777778</td>\n",
              "      <td>0.016934</td>\n",
              "      <td>0.993750</td>\n",
              "      <td>1.000000e-05</td>\n",
              "    </tr>\n",
              "    <tr>\n",
              "      <th>15</th>\n",
              "      <td>0.578906</td>\n",
              "      <td>0.777778</td>\n",
              "      <td>0.003931</td>\n",
              "      <td>1.000000</td>\n",
              "      <td>1.000000e-05</td>\n",
              "    </tr>\n",
              "    <tr>\n",
              "      <th>5</th>\n",
              "      <td>0.579542</td>\n",
              "      <td>0.777778</td>\n",
              "      <td>0.000893</td>\n",
              "      <td>1.000000</td>\n",
              "      <td>1.000000e-05</td>\n",
              "    </tr>\n",
              "    <tr>\n",
              "      <th>2</th>\n",
              "      <td>0.607720</td>\n",
              "      <td>0.805556</td>\n",
              "      <td>0.006116</td>\n",
              "      <td>1.000000</td>\n",
              "      <td>1.000000e-05</td>\n",
              "    </tr>\n",
              "    <tr>\n",
              "      <th>9</th>\n",
              "      <td>0.613731</td>\n",
              "      <td>0.833333</td>\n",
              "      <td>0.001753</td>\n",
              "      <td>1.000000</td>\n",
              "      <td>1.000000e-05</td>\n",
              "    </tr>\n",
              "    <tr>\n",
              "      <th>11</th>\n",
              "      <td>0.622166</td>\n",
              "      <td>0.833333</td>\n",
              "      <td>0.002640</td>\n",
              "      <td>1.000000</td>\n",
              "      <td>1.000000e-05</td>\n",
              "    </tr>\n",
              "    <tr>\n",
              "      <th>19</th>\n",
              "      <td>0.624723</td>\n",
              "      <td>0.833333</td>\n",
              "      <td>0.001782</td>\n",
              "      <td>1.000000</td>\n",
              "      <td>1.000000e-06</td>\n",
              "    </tr>\n",
              "    <tr>\n",
              "      <th>4</th>\n",
              "      <td>0.657175</td>\n",
              "      <td>0.777778</td>\n",
              "      <td>0.001089</td>\n",
              "      <td>1.000000</td>\n",
              "      <td>1.000000e-05</td>\n",
              "    </tr>\n",
              "    <tr>\n",
              "      <th>13</th>\n",
              "      <td>0.667730</td>\n",
              "      <td>0.777778</td>\n",
              "      <td>0.003847</td>\n",
              "      <td>1.000000</td>\n",
              "      <td>1.000000e-05</td>\n",
              "    </tr>\n",
              "    <tr>\n",
              "      <th>21</th>\n",
              "      <td>0.709220</td>\n",
              "      <td>0.833333</td>\n",
              "      <td>0.000992</td>\n",
              "      <td>1.000000</td>\n",
              "      <td>1.000000e-06</td>\n",
              "    </tr>\n",
              "    <tr>\n",
              "      <th>20</th>\n",
              "      <td>0.816757</td>\n",
              "      <td>0.833333</td>\n",
              "      <td>0.012996</td>\n",
              "      <td>0.993750</td>\n",
              "      <td>1.000000e-06</td>\n",
              "    </tr>\n",
              "    <tr>\n",
              "      <th>18</th>\n",
              "      <td>0.836307</td>\n",
              "      <td>0.805556</td>\n",
              "      <td>0.001234</td>\n",
              "      <td>1.000000</td>\n",
              "      <td>1.000000e-06</td>\n",
              "    </tr>\n",
              "  </tbody>\n",
              "</table>\n",
              "</div>"
            ],
            "text/plain": [
              "    val_loss  val_accuracy      loss  accuracy            lr\n",
              "6   0.156607      0.916667  0.000888  1.000000  1.000000e-05\n",
              "0   0.315637      0.833333  0.001164  1.000000  1.000000e-05\n",
              "10  0.317678      0.833333  0.001456  1.000000  1.000000e-05\n",
              "7   0.334445      0.888889  0.000578  1.000000  1.000000e-05\n",
              "3   0.341252      0.888889  0.007122  0.996875  1.000000e-05\n",
              "17  0.369703      0.861111  0.000725  1.000000  1.000000e-06\n",
              "14  0.432697      0.861111  0.000925  1.000000  1.000000e-05\n",
              "12  0.459952      0.777778  0.001734  1.000000  1.000000e-05\n",
              "8   0.464968      0.888889  0.004668  1.000000  1.000000e-05\n",
              "16  0.469383      0.833333  0.000751  1.000000  1.000000e-05\n",
              "1   0.558253      0.777778  0.016934  0.993750  1.000000e-05\n",
              "15  0.578906      0.777778  0.003931  1.000000  1.000000e-05\n",
              "5   0.579542      0.777778  0.000893  1.000000  1.000000e-05\n",
              "2   0.607720      0.805556  0.006116  1.000000  1.000000e-05\n",
              "9   0.613731      0.833333  0.001753  1.000000  1.000000e-05\n",
              "11  0.622166      0.833333  0.002640  1.000000  1.000000e-05\n",
              "19  0.624723      0.833333  0.001782  1.000000  1.000000e-06\n",
              "4   0.657175      0.777778  0.001089  1.000000  1.000000e-05\n",
              "13  0.667730      0.777778  0.003847  1.000000  1.000000e-05\n",
              "21  0.709220      0.833333  0.000992  1.000000  1.000000e-06\n",
              "20  0.816757      0.833333  0.012996  0.993750  1.000000e-06\n",
              "18  0.836307      0.805556  0.001234  1.000000  1.000000e-06"
            ]
          },
          "metadata": {
            "tags": []
          },
          "execution_count": 65
        }
      ]
    },
    {
      "cell_type": "code",
      "metadata": {
        "id": "lOXhlVuyrvAf"
      },
      "source": [
        "# import matplotlib.pyplot as plt\n",
        "# def plot_model(model):\n",
        "#     plots = [i for i in model.history.history.keys() if i.find('val_') == -1]\n",
        "#     plt.figure(figsize=(10,10))\n",
        "\n",
        "#     for i, p in enumerate(plots):\n",
        "#         plt.subplot(len(plots), 2, i + 1)\n",
        "#         plt.title(p)\n",
        "#         plt.plot(model.history.history[p], label=p)\n",
        "#         plt.plot(model.history.history['val_'+p], label='val_'+p)\n",
        "#         plt.legend()\n",
        "#         plt.savefig(f'/content/drive/My Drive/Result Analysis/{i}.jpg')\n",
        "\n",
        "#     plt.show()\n",
        "    \n",
        "# plot_model(model)"
      ],
      "execution_count": null,
      "outputs": []
    },
    {
      "cell_type": "code",
      "metadata": {
        "id": "V36Jy2oHi6fj"
      },
      "source": [
        "# from sklearn.metrics import classification_report, confusion_matrix\n",
        "# from keras.models import load_model\n",
        "\n",
        "# model = load_model('/content/drive/My Drive/dataset/Best Model/Mobilenet2.h5')"
      ],
      "execution_count": null,
      "outputs": []
    },
    {
      "cell_type": "code",
      "metadata": {
        "id": "D4Mp0-HRmVSz",
        "colab": {
          "base_uri": "https://localhost:8080/",
          "height": 34
        },
        "outputId": "8343bb52-24c6-4b1b-d3f4-dd9e9ca2b87e"
      },
      "source": [
        "validation_generator = datagen.flow(x_valid, y_valid)\n",
        "y_pred = model.predict_generator(validation_generator)\n",
        "y_pred = np.argmax(y_pred, axis=1)\n",
        "y_pred"
      ],
      "execution_count": null,
      "outputs": [
        {
          "output_type": "execute_result",
          "data": {
            "text/plain": [
              "array([0, 0, 0, 0, 0, 1, 1, 0, 1, 0, 1, 1, 0, 1, 1, 0, 0, 1])"
            ]
          },
          "metadata": {
            "tags": []
          },
          "execution_count": 79
        }
      ]
    },
    {
      "cell_type": "code",
      "metadata": {
        "id": "CYVDjNvYp2km",
        "colab": {
          "base_uri": "https://localhost:8080/",
          "height": 51
        },
        "outputId": "6d1bed45-93dc-48e7-affc-5d1c40720d61"
      },
      "source": [
        "model.evaluate_generator(validation_generator, verbose=1)"
      ],
      "execution_count": null,
      "outputs": [
        {
          "output_type": "stream",
          "text": [
            "\r1/1 [==============================] - 0s 79ms/step\n"
          ],
          "name": "stdout"
        },
        {
          "output_type": "execute_result",
          "data": {
            "text/plain": [
              "[0.6063888072967529, 0.8333333134651184]"
            ]
          },
          "metadata": {
            "tags": []
          },
          "execution_count": 80
        }
      ]
    },
    {
      "cell_type": "code",
      "metadata": {
        "id": "SB_hs_zu24sv"
      },
      "source": [
        ""
      ],
      "execution_count": null,
      "outputs": []
    }
  ]
}